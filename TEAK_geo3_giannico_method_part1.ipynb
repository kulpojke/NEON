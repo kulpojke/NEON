{
 "cells": [
  {
   "cell_type": "markdown",
   "metadata": {},
   "source": [
    "After \n",
    "\n",
    "@article{giannico2018,\n",
    "  title={Contributions of landscape heterogeneity within the footprint of eddy-covariance towers to flux measurements},\n",
    "  author={Giannico, Vincenzo and Chen, Jiquan and Shao, Changliang and Ouyang, Zutao and John, Ranjeet and Lafortezza, Raffaele},\n",
    "  journal={Agricultural and Forest Meteorology},\n",
    "  volume={260},\n",
    "  pages={144--153},\n",
    "  year={2018},\n",
    "  publisher={Elsevier}\n",
    "}\n"
   ]
  },
  {
   "cell_type": "markdown",
   "metadata": {},
   "source": [
    "Add NDVI and EVI layers in previous step\n",
    "\n",
    "## Calculation of texture features\n",
    "\n",
    "For EVI, NDVI and k-means class perform GLCM\n",
    "\n",
    "Rasters of _contrast_, _dissimilarity_, and _entropy_  were calculated using a  grey level co-occurrence matrix (GLCM) filter. A filter window was passed across the image Giannico et al. \\cite{giannico2018} used a 3 x 3 window."
   ]
  },
  {
   "cell_type": "code",
   "execution_count": 1,
   "metadata": {},
   "outputs": [],
   "source": [
    "import numpy as np\n",
    "import xarray as xr\n",
    "import rioxarray\n",
    "from skimage.feature import graycomatrix, graycoprops\n",
    "import os\n",
    "from tqdm import tqdm\n",
    "\n",
    "# paths\n",
    "ncdf = '/media/data/NEON/TEAK/mosaic/TEAK_2019_mosaic.nc'\n",
    "ncdf2 = '/media/data/NEON/TEAK/mosaic/TEAK_2019_mosaic2.nc'\n",
    "\n",
    "# open netcdf mosaic\n",
    "data = xr.open_dataset(ncdf)\n",
    "km = data.kmeans_label.data\n"
   ]
  },
  {
   "cell_type": "code",
   "execution_count": 3,
   "metadata": {},
   "outputs": [
    {
     "name": "stderr",
     "output_type": "stream",
     "text": [
      "100%|██████████| 9998/9998 [6:02:14<00:00,  2.17s/it]  \n"
     ]
    }
   ],
   "source": [
    "kernel_shape = (3, 3)\n",
    "sub_arrays = np.lib.stride_tricks.sliding_window_view(km, kernel_shape)\n",
    "\n",
    "contrast = np.empty(list(sub_arrays.shape)[:2])\n",
    "dissimilarity = np.empty_like(contrast)\n",
    "homogeneity = np.empty_like(contrast)\n",
    "\n",
    "\n",
    "def func(kernel_data):\n",
    "    glcm = graycomatrix(kernel_data,\n",
    "                        distances=[1],\n",
    "                        angles=[0],\n",
    "                        normed=True\n",
    "                        , levels=kernel_data.max() + 1)\n",
    "\n",
    "    contrast = graycoprops(glcm, 'contrast')\n",
    "    dissimilarity = graycoprops(glcm, 'dissimilarity')\n",
    "    homogeneity = graycoprops(glcm,  'homogeneity')\n",
    "\n",
    "    return contrast, dissimilarity, homogeneity\n",
    "\n",
    "\n",
    "def meta_func(i, j, kernel_data):\n",
    "    return((i, j), func(kernel_data))\n",
    "\n",
    "\n",
    "lazy = []\n",
    "\n",
    "\n",
    "for i in tqdm(range(contrast.shape[0])):\n",
    "    for j in range(contrast.shape[1]):\n",
    "        (contrast[i, j],\n",
    "        dissimilarity[i, j],\n",
    "        homogeneity[i, j]) = func(sub_arrays[i, j, :, :])\n",
    "\n",
    "# pad the edges with no_data values to get back to original ashape\n",
    "contrast = np.pad(contrast, [(1, 1), (1, 1)], mode='constant', constant_values=data.no_data_value)        \n",
    "dissimilarity = np.pad(dissimilarity, [(1, 1), (1, 1)], mode='constant', constant_values=data.no_data_value)        \n",
    "homogeneity = np.pad(homogeneity, [(1, 1), (1, 1)], mode='constant', constant_values=data.no_data_value)\n",
    "\n",
    "# add the scores to the xarray\n",
    "data['contrast'] = xr.DataArray(contrast, dims=['x', 'y'])\n",
    "data['dissimilarity'] = xr.DataArray(dissimilarity, dims=['x', 'y'])\n",
    "data['homogeneity'] = xr.DataArray(homogeneity, dims=['x', 'y'])\n",
    "\n",
    "# write to new path ( open ncdf is locked, can't overwrite)\n",
    "data.to_netcdf(ncdf2)\n",
    "data.close()\n",
    "\n",
    "# rename back to original (probably exists a better way than these last 2 steps)\n",
    "os.rename(ncdf2, ncdf)"
   ]
  },
  {
   "cell_type": "code",
   "execution_count": 2,
   "metadata": {},
   "outputs": [
    {
     "name": "stdout",
     "output_type": "stream",
     "text": [
      "\u001b[0;31mSignature:\u001b[0m \u001b[0mos\u001b[0m\u001b[0;34m.\u001b[0m\u001b[0mrename\u001b[0m\u001b[0;34m(\u001b[0m\u001b[0msrc\u001b[0m\u001b[0;34m,\u001b[0m \u001b[0mdst\u001b[0m\u001b[0;34m,\u001b[0m \u001b[0;34m*\u001b[0m\u001b[0;34m,\u001b[0m \u001b[0msrc_dir_fd\u001b[0m\u001b[0;34m=\u001b[0m\u001b[0;32mNone\u001b[0m\u001b[0;34m,\u001b[0m \u001b[0mdst_dir_fd\u001b[0m\u001b[0;34m=\u001b[0m\u001b[0;32mNone\u001b[0m\u001b[0;34m)\u001b[0m\u001b[0;34m\u001b[0m\u001b[0;34m\u001b[0m\u001b[0m\n",
      "\u001b[0;31mDocstring:\u001b[0m\n",
      "Rename a file or directory.\n",
      "\n",
      "If either src_dir_fd or dst_dir_fd is not None, it should be a file\n",
      "  descriptor open to a directory, and the respective path string (src or dst)\n",
      "  should be relative; the path will then be relative to that directory.\n",
      "src_dir_fd and dst_dir_fd, may not be implemented on your platform.\n",
      "  If they are unavailable, using them will raise a NotImplementedError.\n",
      "\u001b[0;31mType:\u001b[0m      builtin_function_or_method\n"
     ]
    }
   ],
   "source": [
    "os.rename?"
   ]
  },
  {
   "cell_type": "code",
   "execution_count": 30,
   "metadata": {},
   "outputs": [],
   "source": []
  },
  {
   "cell_type": "code",
   "execution_count": null,
   "metadata": {},
   "outputs": [],
   "source": []
  }
 ],
 "metadata": {
  "interpreter": {
   "hash": "0b20d2e798ab320dcd9e3022b3f23321d95437ce0beeb6a34c6f05479d8e44a2"
  },
  "kernelspec": {
   "display_name": "Python 3.10.2 ('geo3')",
   "language": "python",
   "name": "python3"
  },
  "language_info": {
   "codemirror_mode": {
    "name": "ipython",
    "version": 3
   },
   "file_extension": ".py",
   "mimetype": "text/x-python",
   "name": "python",
   "nbconvert_exporter": "python",
   "pygments_lexer": "ipython3",
   "version": "3.10.2"
  },
  "orig_nbformat": 4
 },
 "nbformat": 4,
 "nbformat_minor": 2
}
