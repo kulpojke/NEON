{
 "cells": [
  {
   "cell_type": "code",
   "execution_count": 1,
   "id": "6808f078-8428-488f-a6b4-c5516564f285",
   "metadata": {},
   "outputs": [],
   "source": [
    "import os\n",
    "import glob\n",
    "import random\n",
    "from time import time\n",
    "import numpy as np\n",
    "import h5py\n",
    "import matplotlib.pyplot as plt\n",
    "\n",
    "from numba import cuda, jit\n",
    "\n",
    "from dask import delayed, compute\n",
    "from dask.diagnostics import ProgressBar\n",
    "from tqdm import tqdm\n",
    "\n",
    "from sklearn.preprocessing import  StandardScaler\n",
    "from sklearn.decomposition import PCA\n",
    "from sklearn.cluster import KMeans\n",
    "from sklearn.impute import SimpleImputer\n",
    "\n",
    "import rasterio as rio\n",
    "\n",
    "import xarray as xr\n",
    "import rioxarray\n",
    "\n",
    "t0 = time()"
   ]
  },
  {
   "cell_type": "code",
   "execution_count": 2,
   "id": "d92f66c3",
   "metadata": {},
   "outputs": [],
   "source": [
    "# change these as fitting\n",
    "site = 'TALL'\n",
    "\n",
    "# these two paths can, but do not have to be, the same\n",
    "source_path = os.path.join('/media', 'storage', 'NEON')\n",
    "destination_path = os.path.join('/media', 'data', 'NEON')"
   ]
  },
  {
   "cell_type": "code",
   "execution_count": 3,
   "id": "010724bf-3ebc-4dfb-a06e-4908e3c88172",
   "metadata": {},
   "outputs": [],
   "source": [
    "# paths\n",
    "data_dir = os.path.join(source_path, site)\n",
    "out_dir = os.path.join(destination_path, site)\n",
    "\n",
    "hyper_path = os.path.join(\n",
    "                data_dir, \n",
    "                'hyperspectral',\n",
    "                'DP3.30006.001',\n",
    "                'neon-aop-products')\n",
    "\n",
    "# check to make sure there is hyperspectral for the site\n",
    "if not os.path.isdir(hyper_path):\n",
    "    a = f'There appears to be no hyperspectral data for {site}. '\n",
    "    b = f'{hyper_path} is not a directory.'\n",
    "    msg = a + b\n",
    "    raise Exception(msg)\n",
    "\n",
    "# get the years (they are directories in hyper_path)\n",
    "years = os.listdir(hyper_path)"
   ]
  },
  {
   "cell_type": "code",
   "execution_count": 4,
   "id": "a279fead",
   "metadata": {},
   "outputs": [],
   "source": [
    "# make a dict with paths to all files for each year\n",
    "files_dict = {}\n",
    "\n",
    "for year in years:\n",
    "\n",
    "    # get the rest of the path\n",
    "    globstring = os.path.join(hyper_path,\n",
    "    year,\n",
    "    'FullSite',\n",
    "    'D08',\n",
    "    f'{year}_{site}_[0-9]',\n",
    "    'L3',\n",
    "    'Spectrometer',\n",
    "    'Reflectance',\n",
    "    f'NEON_D08_{site}_DP3_*.h5')\n",
    "\n",
    "\n",
    "    # find the names of the hyperspectral cubes\n",
    "    files_dict[year] =  glob.glob(globstring)\n"
   ]
  },
  {
   "cell_type": "code",
   "execution_count": 5,
   "id": "c37a8fa0-76a9-444f-8466-42bad15a211d",
   "metadata": {},
   "outputs": [],
   "source": [
    "def band_list():\n",
    "    '''excludes bands with H2O or CO2 absorption'''\n",
    "    good_bands = np.hstack([\n",
    "        np.arange(0, 188 + 1),\n",
    "        np.arange(211, 269 + 1),\n",
    "        np.arange(316, 425 + 1)\n",
    "    ])\n",
    "    \n",
    "    return good_bands\n"
   ]
  },
  {
   "cell_type": "code",
   "execution_count": 6,
   "id": "0101fd6b-c091-4375-9aa9-5b044a7c6e7c",
   "metadata": {},
   "outputs": [],
   "source": [
    "@delayed\n",
    "def sample_from_file(fname, size):\n",
    "    '''samples from file'''\n",
    "    \n",
    "    # open the file\n",
    "    f = h5py.File(fname, 'r')\n",
    "\n",
    "    # get the within reflectance as np array\n",
    "    refl_array = np.array(np.rot90(f[site]['Reflectance']['Reflectance_Data']))\n",
    "\n",
    "    # drop bad bands from refl_array\n",
    "    refl_array = refl_array[:, :, band_list()]\n",
    "\n",
    "    # get shape of wavelenght dimension\n",
    "    wl = refl_array.shape[2]\n",
    "\n",
    "    # reshape\n",
    "    flat_refl = refl_array.reshape(-1, wl)\n",
    "\n",
    "    # drop nulls\n",
    "    flat_refl = flat_refl[\n",
    "    (~np.any(flat_refl == -9999, axis=1)) &\n",
    "    (~np.any(np.isnan(flat_refl), axis=1))]\n",
    "\n",
    "    # get random sample indices\n",
    "    random.seed(3)\n",
    "    sample_idx = random.sample(range(flat_refl.shape[0]), int(flat_refl.shape[0] * size))\n",
    "\n",
    "    # return sample\n",
    "    return flat_refl[sample_idx, :]\n",
    "    \n",
    "\n",
    "def sample_from_all(files, size):\n",
    "    '''\n",
    "    Returns a np array of samples of shape (N, wl) where N is\n",
    "    the number of samples and wl is the length of the wavelength\n",
    "    dimension.\n",
    "    \n",
    "    args:\n",
    "        files    - list of full paths to netcdf4 files to be used. \n",
    "        size     - fraction of data to be used.\n",
    "    '''\n",
    "    # empty list for samples\n",
    "    samples = []\n",
    "    \n",
    "    for fname in files:\n",
    "        samples.append(sample_from_file(fname, size))\n",
    "        \n",
    "    with ProgressBar():\n",
    "        sample = np.vstack(compute(*samples))\n",
    "        \n",
    "    return sample\n",
    "\n",
    "\n",
    "def plot_pca_var(pca):\n",
    "    '''plots explained variance by PCA component'''\n",
    "    \n",
    "    # make fig\n",
    "    plt.figure(figsize=(10,4));\n",
    "\n",
    "    # plot\n",
    "    plt.plot(range(1, 359),\n",
    "             pca.explained_variance_ratio_.cumsum(),\n",
    "             marker='o',\n",
    "             linestyle='--');\n",
    "    \n",
    "    # details\n",
    "    plt.title('Explained Variance by Number of Components');\n",
    "    plt.xlabel('Components');\n",
    "    plt.ylabel('Cumulative explained Var');\n",
    "    plt.xlim(0, 20);\n",
    "    plt.show()\n",
    "    \n",
    "    \n",
    "def kmeans_wcss(n_components, scaled_refl, max_n_clusters=20):\n",
    "    '''\n",
    "    Returns a list of wcss values for different n_clusters values\n",
    "    after performing PCA using n_components.\n",
    "    args:\n",
    "        n_components   - number of components to be kept in PCA.\n",
    "        scaled_refl    - scaled values on which to perform PCA and\n",
    "                         clustering.\n",
    "        max_n_clusters - max number of clusters to try default 20.\n",
    "    '''\n",
    "    # use n components for pca\n",
    "    pca = PCA(n_components=n_components)\n",
    "\n",
    "    # fit\n",
    "    pca.fit(scaled_refl)\n",
    "\n",
    "    # get component scores\n",
    "    scores_pca = pca.transform(scaled_refl)\n",
    "\n",
    "    # empty list for witih cluster sum of squares\n",
    "    wcss = []\n",
    "\n",
    "    # now try out some differnt cluster numbers\n",
    "    print(f'Out of {max_n_clusters} trials working on:')\n",
    "\n",
    "    for n in range(1, max_n_clusters + 1):\n",
    "        \n",
    "        print(f'\\b\\b{n}', end=\"\")\n",
    "        \n",
    "        kmeans =  KMeans(n_clusters=n, init='k-means++', random_state=42)\n",
    "        kmeans.fit(scores_pca)\n",
    "        wcss.append(kmeans.inertia_)\n",
    "\n",
    "    print('\\ndone!')\n",
    "    \n",
    "    return wcss, pca\n",
    "\n",
    "\n",
    "def plot_wcss(wcss):\n",
    "    '''plots wcss vs n_clusters'''\n",
    "    \n",
    "    # fig\n",
    "    plt.figure(figsize=(10, 4));\n",
    "\n",
    "    # plot\n",
    "    plt.plot(range(1, len(wcss) + 1),\n",
    "             wcss,\n",
    "             marker='o',\n",
    "             linestyle='--');\n",
    "\n",
    "    # details\n",
    "    plt.title('Kmeans with PCA WCSS');\n",
    "    plt.xlabel('WCSS');\n",
    "    plt.ylabel('Number of Clusters');"
   ]
  },
  {
   "cell_type": "code",
   "execution_count": 7,
   "id": "2c439238",
   "metadata": {},
   "outputs": [
    {
     "name": "stdout",
     "output_type": "stream",
     "text": [
      "['2021', '2019', '2018']\n"
     ]
    }
   ],
   "source": [
    "# see what years we have data for\n",
    "print(years)"
   ]
  },
  {
   "cell_type": "markdown",
   "id": "a72910a5",
   "metadata": {},
   "source": [
    "## 2018 ##"
   ]
  },
  {
   "cell_type": "code",
   "execution_count": 8,
   "id": "435e51f5-ccdd-4a5d-9721-3822d30b3ed9",
   "metadata": {},
   "outputs": [
    {
     "name": "stdout",
     "output_type": "stream",
     "text": [
      "[########################################] | 100% Completed |  4min 28.0s\n"
     ]
    }
   ],
   "source": [
    "# get year's files\n",
    "year = '2018'\n",
    "files = files_dict[year]\n",
    "\n",
    "# make path for pca tifs, ensure exists\n",
    "pca_house = os.path.join(out_dir, 'pca')\n",
    "os.makedirs(os.path.join(pca_house, year), exist_ok=True)\n",
    "\n",
    "# sample 0.2% of pixels in data for year\n",
    "size = 1 / 500\n",
    "sample = sample_from_all(files, size)"
   ]
  },
  {
   "cell_type": "code",
   "execution_count": 9,
   "id": "e2a3c236-00b6-4fae-b4af-19f24c8ec4e2",
   "metadata": {},
   "outputs": [],
   "source": [
    "# make an array, change dtype for memory \n",
    "sample = np.array(sample, dtype=np.float16)\n",
    "\n",
    "# scale the data\n",
    "scaler = StandardScaler().fit(sample)\n",
    "scaled = scaler.transform(sample)\n",
    "\n",
    "# instantiate the PCA model\n",
    "pca = PCA()\n",
    "\n",
    "# fit the pca model\n",
    "pca.fit(scaled)\n",
    "\n",
    "# try to free up sume memory\n",
    "del sample"
   ]
  },
  {
   "cell_type": "code",
   "execution_count": 10,
   "id": "57915ef8-d669-4811-b634-b6a9bdbc7f6b",
   "metadata": {},
   "outputs": [
    {
     "data": {
      "image/png": "[encoded data removed]",
      "text/plain": [
       "<Figure size 720x288 with 1 Axes>"
      ]
     },
     "metadata": {
      "needs_background": "light"
     },
     "output_type": "display_data"
    }
   ],
   "source": [
    "plot_pca_var(pca)"
   ]
  },
  {
   "cell_type": "markdown",
   "id": "6e6d61e6",
   "metadata": {},
   "source": [
    "The first 2 components capture over 95% of the variance, so we will use 2."
   ]
  },
  {
   "cell_type": "code",
   "execution_count": 11,
   "id": "2e4b5229-bf02-4f8b-bf1c-48c98b97c11a",
   "metadata": {},
   "outputs": [
    {
     "name": "stdout",
     "output_type": "stream",
     "text": [
      "Out of 10 trials working on:\n",
      "\b10\n",
      "done!\n"
     ]
    }
   ],
   "source": [
    "# 2 components as discussed above\n",
    "n_components = 2\n",
    "\n",
    "# get wcss for different n_clusters and train the pca for n_components\n",
    "wcss, pca = kmeans_wcss(n_components, scaled, max_n_clusters=10)"
   ]
  },
  {
   "cell_type": "code",
   "execution_count": 12,
   "id": "5a5b8d0e-a81e-4d64-9684-ce2be953967b",
   "metadata": {},
   "outputs": [
    {
     "data": {
      "image/png": "[encoded data removed]",
      "text/plain": [
       "<Figure size 720x288 with 1 Axes>"
      ]
     },
     "metadata": {
      "needs_background": "light"
     },
     "output_type": "display_data"
    }
   ],
   "source": [
    "plot_wcss(wcss)"
   ]
  },
  {
   "cell_type": "markdown",
   "id": "24a5407f",
   "metadata": {},
   "source": [
    "Using the elbow method, we vary number of clusters  calculating WCSS ( Within-Cluster Sum of Square ) for each. WCSS is the sum of squared distance between each point and the centroid in a cluster. The graph inflects at 3. Now we will make the actual data files using k=2 and n=3.\n",
    "\n",
    " "
   ]
  },
  {
   "cell_type": "code",
   "execution_count": 13,
   "id": "8172c0d1-c1a9-4de0-a13d-bfa99ca6e0c4",
   "metadata": {},
   "outputs": [],
   "source": [
    "# 3 clusters as discussed above\n",
    "n_clusters = 3"
   ]
  },
  {
   "cell_type": "code",
   "execution_count": 14,
   "id": "e5659313-fc26-43b3-8367-d82c87e4d438",
   "metadata": {},
   "outputs": [],
   "source": [
    "def read_h5_do_pca(fname, scaler, pca):\n",
    "    '''reads'''  \n",
    "\n",
    "    # open the file\n",
    "    f = h5py.File(fname, 'r')\n",
    "    \n",
    "    # seperate out reflectance\n",
    "    refl = f[site]['Reflectance']\n",
    "\n",
    "    # get no data value\n",
    "    no_data_value = refl['Reflectance_Data'].attrs['Data_Ignore_Value']\n",
    "    \n",
    "    # get the actual data within reflectance as array\n",
    "    refl_array = np.array(np.rot90(refl['Reflectance_Data'], k=3), dtype=np.float16)\n",
    "    \n",
    "    # drop bad bands from refl_array\n",
    "    refl_array = refl_array[:, :, band_list()]\n",
    "    \n",
    "    # get wavelength info\n",
    "    wavelengths = np.array(refl['Metadata']['Spectral_Data']['Wavelength'])\n",
    "    \n",
    "    # drop bad bands from wavelength\n",
    "    wavelengths = wavelengths[band_list()]\n",
    "    \n",
    "    # get  dimensions of array\n",
    "    x  = refl_array.shape[0]\n",
    "    y  = refl_array.shape[1]\n",
    "    wl = refl_array.shape[2]\n",
    "\n",
    "    # reshape\n",
    "    flat_refl = refl_array.reshape(-1, wl)\n",
    "    \n",
    "    # make sure there are no nans\n",
    "    flat_refl[np.isnan(flat_refl)] = no_data_value\n",
    "    \n",
    "    # before we drop no-datas get their indices\n",
    "    null_idx = np.argwhere(np.any(flat_refl == no_data_value, axis=1)).flatten()\n",
    "\n",
    "    # pick arbitray valid index\n",
    "    good_idx = np.argwhere(~np.any(flat_refl == no_data_value, axis=1)).flatten()[25]\n",
    "    \n",
    "    # fill no-datas with a vaule within normal range if need be (they will be returned to na data val in output)\n",
    "    if null_idx.any():\n",
    "        #flat_refl = flat_refl[np.argwhere(~np.any(flat_refl == no_data_value, axis=1)).flatten()]\n",
    "        flat_refl[null_idx] = flat_refl[good_idx]\n",
    "\n",
    "    # scale with previously fit scaler\n",
    "    scaled = scaler.transform(flat_refl)\n",
    "    \n",
    "    # get component scores\n",
    "    scores_pca = pca.transform(scaled)\n",
    "    \n",
    "    # put no-data values back in if need be\n",
    "    if null_idx.any():\n",
    "        #scores_pca = np.insert(scores_pca, null_idx, [no_data_value] * scores_pca.shape[1], axis=0)\n",
    "        scores_pca[null_idx, :] = [no_data_value] * scores_pca.shape[1]\n",
    "\n",
    "    # reshape to original tile x, y\n",
    "    scores_pca = scores_pca.reshape(x, y, n_components)\n",
    "    \n",
    "    # close hdf\n",
    "    #f.close()\n",
    "    \n",
    "    return scores_pca, refl\n",
    "\n",
    "    \n",
    "def tiffize_and_xarray(arr, refl, out_file):\n",
    "    '''\n",
    "    Writes tiff from array.\n",
    "    \n",
    "    args:\n",
    "        arr      - array to be written as tiff\n",
    "        refl     - reflectance metadata from h5\n",
    "        out_file - filename of tiff to write\n",
    "    '''\n",
    "    # bag crs as epsg\n",
    "    epsg = refl['Metadata']['Coordinate_System']['EPSG Code'][()].decode(\"utf-8\")\n",
    "    epsg = f'EPSG:{epsg}'\n",
    "    \n",
    "    # bag other crs info\n",
    "    crs_info = refl['Metadata']['Coordinate_System']['Map_Info'][()].decode(\"utf-8\").split(',')\n",
    "\n",
    "\n",
    "    # get corners and x, y resolution\n",
    "    xmin = float(crs_info[3])\n",
    "    ymax = float(crs_info[4])\n",
    "    xres = float(crs_info[5])\n",
    "    yres = float(crs_info[6])\n",
    "    xmax = xmin + (arr.shape[1] * xres) \n",
    "    ymin = ymax - (arr.shape[0] * yres)\n",
    "\n",
    "    # create array of x center pixel locations in utm coords\n",
    "    x = np.linspace(xmin, xmax, arr.shape[1], endpoint=False)\n",
    "    x = x + xres * 0.5\n",
    "\n",
    "    # create array of y center pixel locations in utm coords\n",
    "    y = np.linspace(ymin, ymax, arr.shape[0], endpoint=False)\n",
    "    y = y + yres * 0.5\n",
    "\n",
    "    # make dataset\n",
    "    d_all = xr.DataArray(arr, dims=['x', 'y', 'components'], coords={'x':x, 'y':y, 'components': range(arr.shape[2])})\n",
    "    d_all.name = 'pca'\n",
    "    d_all = d_all.to_dataset()\n",
    "    \n",
    "    # assign crs and spatial dims\n",
    "    d_all.rio.write_crs(epsg, inplace=True)\n",
    "\n",
    "    # attributes\n",
    "    no_data_value = refl['Reflectance_Data'].attrs['Data_Ignore_Value']\n",
    "    d_all.attrs = {\n",
    "                    'no_data_value': no_data_value,\n",
    "                    'epsg': epsg,\n",
    "                    'crs' : crs_info\n",
    "                  }\n",
    "\n",
    "    # write the labels to geotiff\n",
    "    d_all.pca.transpose('components', 'y', 'x').rio.to_raster(out_file)\n",
    "    \n",
    "    return d_all\n",
    "    \n",
    "    \n",
    "    "
   ]
  },
  {
   "cell_type": "code",
   "execution_count": 15,
   "id": "73a76e47-6512-4c57-b51b-2378942e747a",
   "metadata": {},
   "outputs": [
    {
     "name": "stdout",
     "output_type": "stream",
     "text": [
      "Of 49 on:\n"
     ]
    },
    {
     "name": "stderr",
     "output_type": "stream",
     "text": [
      "49it [15:54, 19.49s/it]\n"
     ]
    }
   ],
   "source": [
    "print(f'Of {len(files)} on:')\n",
    "\n",
    "# list for xarrays to merge later\n",
    "xarrays = []\n",
    "\n",
    "for i, f in tqdm(enumerate(files)):\n",
    "    \n",
    "    base = os.path.basename(f).split('.')[0].split('_')\n",
    "    base = '_'.join([base[2], base[4], base[5]])\n",
    "\n",
    "    scores_pca, refl = read_h5_do_pca(f, scaler, pca)                            \n",
    "\n",
    "    # make fname\n",
    "    tiff = os.path.join(pca_house, year, f'{base}_pca.tiff')\n",
    "\n",
    "    xarrays.append(tiffize_and_xarray(scores_pca, refl, tiff))\n",
    "\n",
    "    "
   ]
  },
  {
   "cell_type": "code",
   "execution_count": 16,
   "id": "51498c74",
   "metadata": {},
   "outputs": [],
   "source": [
    "mosaic = xr.combine_by_coords(xarrays, combine_attrs='override')\n",
    "no_data_value = mosaic.attrs['no_data_value']"
   ]
  },
  {
   "cell_type": "code",
   "execution_count": 17,
   "id": "06257c18",
   "metadata": {},
   "outputs": [],
   "source": [
    "# get the nice unified pca array\n",
    "pca_arr = mosaic.pca.data\n",
    "\n",
    "# determine number of pca compnents in use\n",
    "comps = mosaic.components.data.shape[0]\n",
    "\n",
    "# flatten the pca img\n",
    "flat_pca = pca_arr.reshape(-1, comps)\n",
    "\n",
    "# before we drop no-datas get their indices\n",
    "null_idx = np.argwhere(np.any(flat_pca == no_data_value, axis=1)).flatten()\n",
    "\n",
    "# pick arbitray valid index\n",
    "good_idx = np.argwhere(~np.any(flat_pca == no_data_value, axis=1)).flatten()[25]\n",
    "\n",
    "# drop no-datas\n",
    "if null_idx.any():\n",
    "    flat_pca[null_idx] = flat_pca[good_idx]\n",
    "\n",
    "# cluster\n",
    "kmeans =  KMeans(n_clusters=n_clusters, init='k-means++', random_state=42)\n",
    "kmeans.fit(flat_pca)\n",
    "\n",
    "# get labels\n",
    "labels = kmeans.labels_\n",
    "\n",
    "# add the labels to the xarray\n",
    "mosaic['kmeans_label'] = xr.DataArray(labels.reshape(pca_arr.shape[0], pca_arr.shape[1]), dims=['x', 'y'])"
   ]
  },
  {
   "cell_type": "code",
   "execution_count": 18,
   "id": "acc03751",
   "metadata": {},
   "outputs": [],
   "source": [
    "# ensure directory for tiffs exists and make path\n",
    "# ensure directory for mosaics exists and make path\n",
    "mosaic_house = os.path.join(out_dir, 'mosaic')\n",
    "os.makedirs(os.path.join(mosaic_house, year), exist_ok=True)\n",
    "\n",
    "# make fname\n",
    "tiff = os.path.join(mosaic_house, year, f'{site}_{year}_kmeans_mosaic.tiff')\n",
    "\n",
    "# write the labels to geotiff\n",
    "mosaic.kmeans_label.transpose('y', 'x').rio.to_raster(tiff, dtype=np.int8)"
   ]
  },
  {
   "cell_type": "code",
   "execution_count": 19,
   "id": "8c4718b4",
   "metadata": {},
   "outputs": [],
   "source": [
    "# make fname\n",
    "tiff = os.path.join(mosaic_house, year, f'{site}_{year}_pca_mosaic.tiff')\n",
    "\n",
    "# write the labels to geotiff\n",
    "mosaic.pca.transpose('components', 'y', 'x').rio.to_raster(tiff)"
   ]
  },
  {
   "cell_type": "code",
   "execution_count": 20,
   "id": "49b4aef8",
   "metadata": {},
   "outputs": [],
   "source": [
    "ncdf = os.path.join(mosaic_house, year, f'{site}_{year}_mosaic.nc')\n",
    "mosaic.to_netcdf(ncdf)"
   ]
  },
  {
   "cell_type": "markdown",
   "id": "b50bf720",
   "metadata": {
    "tags": []
   },
   "source": [
    "## 2019 ##\n",
    "\n",
    "We will use the same n and k values determined above."
   ]
  },
  {
   "cell_type": "code",
   "execution_count": 21,
   "id": "5ce1afc3",
   "metadata": {},
   "outputs": [
    {
     "data": {
      "text/plain": [
       "['2021', '2019', '2018']"
      ]
     },
     "execution_count": 21,
     "metadata": {},
     "output_type": "execute_result"
    }
   ],
   "source": [
    "years"
   ]
  },
  {
   "cell_type": "code",
   "execution_count": 22,
   "id": "bf8df4d9",
   "metadata": {},
   "outputs": [],
   "source": [
    "# get year's files\n",
    "year = '2019'\n",
    "files = files_dict[year]\n",
    "\n",
    "# make path for pca tifs, ensure exists\n",
    "pca_house = os.path.join(out_dir, 'pca')\n",
    "os.makedirs(os.path.join(pca_house, year), exist_ok=True)"
   ]
  },
  {
   "cell_type": "code",
   "execution_count": 26,
   "id": "f7e0c6bd",
   "metadata": {},
   "outputs": [
    {
     "name": "stdout",
     "output_type": "stream",
     "text": [
      "Of 49 on:\n"
     ]
    },
    {
     "name": "stderr",
     "output_type": "stream",
     "text": [
      "49it [18:35, 22.77s/it]\n"
     ]
    }
   ],
   "source": [
    "print(f'Of {len(files)} on:')\n",
    "\n",
    "# list for xarrays to merge later\n",
    "xarrays = []\n",
    "\n",
    "for i, f in tqdm(enumerate(files)):\n",
    "    \n",
    "    base = os.path.basename(f).split('.')[0].split('_')\n",
    "    base = '_'.join([base[2], base[4], base[5]])\n",
    "\n",
    "    scores_pca, refl = read_h5_do_pca(f, scaler, pca)                            \n",
    "\n",
    "    # make fname\n",
    "    tiff = os.path.join(pca_house, year, f'{base}_pca.tiff')\n",
    "\n",
    "    xarrays.append(tiffize_and_xarray(scores_pca, refl, tiff))\n",
    "\n",
    "    "
   ]
  },
  {
   "cell_type": "code",
   "execution_count": 27,
   "id": "019a2b32",
   "metadata": {},
   "outputs": [],
   "source": [
    "mosaic = xr.combine_by_coords(xarrays, combine_attrs='override')\n",
    "no_data_value = mosaic.attrs['no_data_value']"
   ]
  },
  {
   "cell_type": "code",
   "execution_count": 28,
   "id": "409ce1d5",
   "metadata": {},
   "outputs": [],
   "source": [
    "# get the nice unified pca array\n",
    "pca_arr = mosaic.pca.data\n",
    "\n",
    "# determine number of pca compnents in use\n",
    "comps = mosaic.components.data.shape[0]\n",
    "\n",
    "# flatten the pca img\n",
    "flat_pca = pca_arr.reshape(-1, comps)\n",
    "\n",
    "# before we drop no-datas get their indices\n",
    "null_idx = np.argwhere(np.any(flat_pca == no_data_value, axis=1)).flatten()\n",
    "\n",
    "# pick arbitray valid index\n",
    "good_idx = np.argwhere(~np.any(flat_pca == no_data_value, axis=1)).flatten()[25]\n",
    "\n",
    "# drop no-datas\n",
    "if null_idx.any():\n",
    "    flat_pca[null_idx] = flat_pca[good_idx]\n",
    "\n",
    "# cluster\n",
    "kmeans =  KMeans(n_clusters=n_clusters, init='k-means++', random_state=42)\n",
    "kmeans.fit(flat_pca)\n",
    "\n",
    "# get labels\n",
    "labels = kmeans.labels_\n",
    "\n",
    "# add the labels to the xarray\n",
    "mosaic['kmeans_label'] = xr.DataArray(labels.reshape(pca_arr.shape[0], pca_arr.shape[1]), dims=['x', 'y'])"
   ]
  },
  {
   "cell_type": "code",
   "execution_count": 29,
   "id": "01476f66",
   "metadata": {},
   "outputs": [],
   "source": [
    "# ensure directory for tiffs exists and make path\n",
    "# ensure directory for mosaics exists and make path\n",
    "mosaic_house = os.path.join(out_dir, 'mosaic')\n",
    "os.makedirs(os.path.join(mosaic_house, year), exist_ok=True)\n",
    "\n",
    "# make fname\n",
    "tiff = os.path.join(mosaic_house, year, f'{site}_{year}_kmeans_mosaic.tiff')\n",
    "\n",
    "# write the labels to geotiff\n",
    "mosaic.kmeans_label.transpose('y', 'x').rio.to_raster(tiff, dtype=np.int8)"
   ]
  },
  {
   "cell_type": "code",
   "execution_count": 30,
   "id": "731903ee",
   "metadata": {},
   "outputs": [],
   "source": [
    "# make fname\n",
    "tiff = os.path.join(mosaic_house, year, f'{site}_{year}_pca_mosaic.tiff')\n",
    "\n",
    "# write the labels to geotiff\n",
    "mosaic.pca.transpose('components', 'y', 'x').rio.to_raster(tiff)"
   ]
  },
  {
   "cell_type": "code",
   "execution_count": 31,
   "id": "474b95e9",
   "metadata": {},
   "outputs": [],
   "source": [
    "ncdf = os.path.join(mosaic_house, year, f'{site}_{year}_mosaic.nc')\n",
    "mosaic.to_netcdf(ncdf)"
   ]
  },
  {
   "cell_type": "markdown",
   "id": "b50bf720",
   "metadata": {
    "tags": []
   },
   "source": [
    "## 2021 ##\n",
    "\n",
    "We will use the same n and k values determined above."
   ]
  },
  {
   "cell_type": "code",
   "execution_count": 32,
   "id": "5ce1afc3",
   "metadata": {},
   "outputs": [
    {
     "data": {
      "text/plain": [
       "['2021', '2019', '2018']"
      ]
     },
     "execution_count": 32,
     "metadata": {},
     "output_type": "execute_result"
    }
   ],
   "source": [
    "years"
   ]
  },
  {
   "cell_type": "code",
   "execution_count": 33,
   "id": "bf8df4d9",
   "metadata": {},
   "outputs": [],
   "source": [
    "# get year's files\n",
    "year = '2021'\n",
    "files = files_dict[year]\n",
    "\n",
    "# make path for pca tifs, ensure exists\n",
    "pca_house = os.path.join(out_dir, 'pca')\n",
    "os.makedirs(os.path.join(pca_house, year), exist_ok=True)"
   ]
  },
  {
   "cell_type": "code",
   "execution_count": 34,
   "id": "73a76e47-6512-4c57-b51b-2378942e747a",
   "metadata": {},
   "outputs": [
    {
     "name": "stdout",
     "output_type": "stream",
     "text": [
      "Of 49 on:\n"
     ]
    },
    {
     "name": "stderr",
     "output_type": "stream",
     "text": [
      "49it [18:27, 22.61s/it]\n"
     ]
    }
   ],
   "source": [
    "print(f'Of {len(files)} on:')\n",
    "\n",
    "# list for xarrays to merge later\n",
    "xarrays = []\n",
    "\n",
    "for i, f in tqdm(enumerate(files)):\n",
    "    \n",
    "    base = os.path.basename(f).split('.')[0].split('_')\n",
    "    base = '_'.join([base[2], base[4], base[5]])\n",
    "\n",
    "    scores_pca, refl = read_h5_do_pca(f, scaler, pca)                            \n",
    "\n",
    "    # make fname\n",
    "    tiff = os.path.join(pca_house, year, f'{base}_pca.tiff')\n",
    "\n",
    "    xarrays.append(tiffize_and_xarray(scores_pca, refl, tiff))\n",
    "\n",
    "    "
   ]
  },
  {
   "cell_type": "code",
   "execution_count": 35,
   "id": "51498c74",
   "metadata": {},
   "outputs": [],
   "source": [
    "mosaic = xr.combine_by_coords(xarrays, combine_attrs='override')\n",
    "no_data_value = mosaic.attrs['no_data_value']"
   ]
  },
  {
   "cell_type": "code",
   "execution_count": 36,
   "id": "06257c18",
   "metadata": {},
   "outputs": [],
   "source": [
    "# get the nice unified pca array\n",
    "pca_arr = mosaic.pca.data\n",
    "\n",
    "# determine number of pca compnents in use\n",
    "comps = mosaic.components.data.shape[0]\n",
    "\n",
    "# flatten the pca img\n",
    "flat_pca = pca_arr.reshape(-1, comps)\n",
    "\n",
    "# before we drop no-datas get their indices\n",
    "null_idx = np.argwhere(np.any(flat_pca == no_data_value, axis=1)).flatten()\n",
    "\n",
    "# pick arbitray valid index\n",
    "good_idx = np.argwhere(~np.any(flat_pca == no_data_value, axis=1)).flatten()[25]\n",
    "\n",
    "# drop no-datas\n",
    "if null_idx.any():\n",
    "    flat_pca[null_idx] = flat_pca[good_idx]\n",
    "\n",
    "# cluster\n",
    "kmeans =  KMeans(n_clusters=n_clusters, init='k-means++', random_state=42)\n",
    "kmeans.fit(flat_pca)\n",
    "\n",
    "# get labels\n",
    "labels = kmeans.labels_\n",
    "\n",
    "# add the labels to the xarray\n",
    "mosaic['kmeans_label'] = xr.DataArray(labels.reshape(pca_arr.shape[0], pca_arr.shape[1]), dims=['x', 'y'])"
   ]
  },
  {
   "cell_type": "code",
   "execution_count": 37,
   "id": "acc03751",
   "metadata": {},
   "outputs": [],
   "source": [
    "# ensure directory for tiffs exists and make path\n",
    "# ensure directory for mosaics exists and make path\n",
    "mosaic_house = os.path.join(out_dir, 'mosaic')\n",
    "os.makedirs(os.path.join(mosaic_house, year), exist_ok=True)\n",
    "\n",
    "# make fname\n",
    "tiff = os.path.join(mosaic_house, year, f'{site}_{year}_kmeans_mosaic.tiff')\n",
    "\n",
    "# write the labels to geotiff\n",
    "mosaic.kmeans_label.transpose('y', 'x').rio.to_raster(tiff, dtype=np.int8)"
   ]
  },
  {
   "cell_type": "code",
   "execution_count": 38,
   "id": "8c4718b4",
   "metadata": {},
   "outputs": [],
   "source": [
    "# make fname\n",
    "tiff = os.path.join(mosaic_house, year, f'{site}_{year}_pca_mosaic.tiff')\n",
    "\n",
    "# write the labels to geotiff\n",
    "mosaic.pca.transpose('components', 'y', 'x').rio.to_raster(tiff)"
   ]
  },
  {
   "cell_type": "code",
   "execution_count": 39,
   "id": "49b4aef8",
   "metadata": {},
   "outputs": [],
   "source": [
    "ncdf = os.path.join(mosaic_house, year, f'{site}_{year}_mosaic.nc')\n",
    "mosaic.to_netcdf(ncdf)"
   ]
  },
  {
   "cell_type": "code",
   "execution_count": 40,
   "id": "25543b6a",
   "metadata": {},
   "outputs": [
    {
     "name": "stdout",
     "output_type": "stream",
     "text": [
      "That took 83:55.26\n"
     ]
    }
   ],
   "source": [
    "t = time() - t0\n",
    "print(f'That took {int(t//60)}:{round((t%60), 2)}')"
   ]
  },
  {
   "cell_type": "markdown",
   "id": "9f771b0e-4408-4597-9b72-3eeca375fbc8",
   "metadata": {},
   "source": [
    "\n",
    "    # calculate the spectral indices and add to dataset\n",
    "    ndvi = ((d_all.reflectance.sel(wl=858.6,\n",
    "                                   method='nearest') -\n",
    "             d_all.reflectance.sel(wl=648.2,\n",
    "                                   method='nearest')) /\n",
    "            (d_all.reflectance.sel(wl=858.6,\n",
    "                                   method='nearest') +\n",
    "             d_all.reflectance.sel(wl=648.2,\n",
    "                                   method='nearest'))\n",
    "           ).assign_coords(index='ndvi').expand_dims('index')\n",
    "\n",
    "\n",
    "    cai = ((0.5 *\n",
    "            (d_all.reflectance.sel(wl=2000,\n",
    "                                   method='nearest') /\n",
    "             10000.0 +\n",
    "             d_all.reflectance.sel(wl=2200,\n",
    "                                   method='nearest') /\n",
    "             10000.0)) - d_all.reflectance.sel(wl=2100.0,\n",
    "                                              method='nearest') /\n",
    "          10000.0).drop('wl').assign_coords(index='cai').expand_dims('index')\n",
    "\n",
    "\n",
    "    ndli = ((np.log(1. /\n",
    "                           (d_all.reflectance.sel(wl=1754.,\n",
    "                                                  method='nearest') /\n",
    "                            10000.0)) -\n",
    "             np.log(1.0 /\n",
    "                           (d_all.reflectance.sel(wl=1680.0,\n",
    "                                                  method='nearest') /\n",
    "                          10000.0))) /\n",
    "            (np.log(d_all.reflectance.sel(wl=1754.0,\n",
    "                                                 method='nearest') /\n",
    "                           10000.0) +\n",
    "             np.log(d_all.reflectance.sel(wl=1680,\n",
    "                                               method='nearest') /\n",
    "                           10000.0))).assign_coords(index='ndli').expand_dims('index')\n",
    "\n",
    "\n",
    "    mrendvi = ((d_all.reflectance.sel(wl=750.0,\n",
    "                                      method='nearest') -\n",
    "                d_all.reflectance.sel(wl=705.0,\n",
    "                                      method='nearest')) /\n",
    "               (d_all.reflectance.sel(wl=750.0,\n",
    "                                      method='nearest') +\n",
    "                d_all.reflectance.sel(wl=705.0,\n",
    "                                      method='nearest') -\n",
    "                (2.0 *\n",
    "                 d_all.reflectance.sel(wl=445.0,\n",
    "                                       method='nearest')\n",
    "                )\n",
    "               )\n",
    "              ).drop('wl').assign_coords(index='mrendvi').expand_dims('index')\n",
    "\n",
    "\n",
    "    sipi = ((d_all.reflectance.sel(wl=800.0,\n",
    "                                   method='nearest') -\n",
    "             d_all.reflectance.sel(wl=445.0,\n",
    "                                   method='nearest')) /\n",
    "            (d_all.reflectance.sel(wl=800.0,\n",
    "                                   method='nearest') -\n",
    "             d_all.reflectance.sel(wl=680.0,\n",
    "                                   method='nearest')\n",
    "            )\n",
    "           ).assign_coords(index='sipi').expand_dims('index')\n",
    "\n",
    "\n",
    "    ndni = ((np.log(10000.0 /\n",
    "                           d_all.reflectance.sel(wl=1510.0,\n",
    "                                                 method='nearest')\n",
    "                          ) -\n",
    "             np.log(10000.0 /\n",
    "                           d_all.reflectance.sel(wl=1680.0,\n",
    "                                                 method='nearest')\n",
    "                          )\n",
    "            ) / \n",
    "            (np.log(10000.0 /\n",
    "                           d_all.reflectance.sel(wl=1510.0,\n",
    "                                                 method='nearest')\n",
    "                          )+np.log(10000.0 /\n",
    "                           d_all.reflectance.sel(wl=1680.0,\n",
    "                                                 method='nearest')\n",
    "                                         )\n",
    "            )\n",
    "           ).assign_coords(index='ndni').expand_dims('index')\n",
    "\n",
    "\n",
    "    cri1 = ((1.0 /\n",
    "             (d_all.reflectance.sel(wl=510.0,\n",
    "                                    method='nearest') /\n",
    "              10000.0)\n",
    "            ) -\n",
    "            (1.0 /\n",
    "             (d_all.reflectance.sel(wl=550.0,\n",
    "                                    method='nearest') /\n",
    "              10000.0)\n",
    "            )\n",
    "           ).assign_coords(index='cri1').expand_dims('index')\n",
    "\n",
    "\n",
    "    cri2 = ((1.0 /\n",
    "             (d_all.reflectance.sel(wl=510.0,\n",
    "                                    method='nearest') / 10000.0)\n",
    "            ) - \n",
    "            (1.0 /\n",
    "             (d_all.reflectance.sel(wl=700.0,\n",
    "                                    method='nearest') /\n",
    "              10000.0)\n",
    "            )\n",
    "           ).assign_coords(index='cri2').expand_dims('index')\n",
    "\n",
    "\n",
    "    d_all['indices'] = xr.concat(\n",
    "        [ndvi,\n",
    "         cai, \n",
    "         ndli, \n",
    "         mrendvi, \n",
    "         sipi, \n",
    "         cri1, \n",
    "         cri2],\n",
    "        dim='index').chunk((1.0,\n",
    "                            d_all.reflectance.data.chunksize[0],\n",
    "                            d_all.reflectance.data.chunksize[1])\n",
    "                          ).transpose('y','x','index').chunk(('auto','auto',1))\n",
    "\n",
    "    return d_all"
   ]
  },
  {
   "cell_type": "markdown",
   "id": "4875bf89",
   "metadata": {},
   "source": []
  }
 ],
 "metadata": {
  "kernelspec": {
   "display_name": "Python 3 (ipykernel)",
   "language": "python",
   "name": "python3"
  },
  "language_info": {
   "codemirror_mode": {
    "name": "ipython",
    "version": 3
   },
   "file_extension": ".py",
   "mimetype": "text/x-python",
   "name": "python",
   "nbconvert_exporter": "python",
   "pygments_lexer": "ipython3",
   "version": "3.10.2"
  },
  "vscode": {
   "interpreter": {
    "hash": "0b20d2e798ab320dcd9e3022b3f23321d95437ce0beeb6a34c6f05479d8e44a2"
   }
  }
 },
 "nbformat": 4,
 "nbformat_minor": 5
}
